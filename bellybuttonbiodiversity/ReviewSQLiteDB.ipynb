{
 "cells": [
  {
   "cell_type": "code",
   "execution_count": 91,
   "metadata": {},
   "outputs": [],
   "source": [
    "# SQL Alchemy\n",
    "from sqlalchemy import create_engine\n",
    "\n",
    "# PyMySQL \n",
    "# This enables python to read MySQL databases\n",
    "import pymysql\n",
    "pymysql.install_as_MySQLdb()\n",
    "\n",
    "# SQLite (since we've hit an AWS issue)\n",
    "from sqlite3 import dbapi2 as sqlite\n",
    "\n",
    "# Pandas\n",
    "import pandas as pd"
   ]
  },
  {
   "cell_type": "code",
   "execution_count": 92,
   "metadata": {},
   "outputs": [],
   "source": [
    "# Create engine from LOCALLY HOSTED SQLITE DATABASE\n",
    "engine = create_engine('sqlite+pysqlite:///db//bellybutton.sqlite')\n",
    "conn = engine.connect()"
   ]
  },
  {
   "cell_type": "code",
   "execution_count": 93,
   "metadata": {},
   "outputs": [
    {
     "data": {
      "text/html": [
       "<div>\n",
       "<style scoped>\n",
       "    .dataframe tbody tr th:only-of-type {\n",
       "        vertical-align: middle;\n",
       "    }\n",
       "\n",
       "    .dataframe tbody tr th {\n",
       "        vertical-align: top;\n",
       "    }\n",
       "\n",
       "    .dataframe thead th {\n",
       "        text-align: right;\n",
       "    }\n",
       "</style>\n",
       "<table border=\"1\" class=\"dataframe\">\n",
       "  <thead>\n",
       "    <tr style=\"text-align: right;\">\n",
       "      <th></th>\n",
       "      <th>type</th>\n",
       "      <th>name</th>\n",
       "      <th>tbl_name</th>\n",
       "      <th>rootpage</th>\n",
       "      <th>sql</th>\n",
       "    </tr>\n",
       "  </thead>\n",
       "  <tbody>\n",
       "    <tr>\n",
       "      <th>0</th>\n",
       "      <td>table</td>\n",
       "      <td>samples</td>\n",
       "      <td>samples</td>\n",
       "      <td>2</td>\n",
       "      <td>CREATE TABLE \"samples\" (\\n\"otu_id\" INTEGER,\\n ...</td>\n",
       "    </tr>\n",
       "    <tr>\n",
       "      <th>1</th>\n",
       "      <td>table</td>\n",
       "      <td>sample_metadata</td>\n",
       "      <td>sample_metadata</td>\n",
       "      <td>3</td>\n",
       "      <td>CREATE TABLE \"sample_metadata\" (\\n\"sample\" INT...</td>\n",
       "    </tr>\n",
       "  </tbody>\n",
       "</table>\n",
       "</div>"
      ],
      "text/plain": [
       "    type             name         tbl_name  rootpage  \\\n",
       "0  table          samples          samples         2   \n",
       "1  table  sample_metadata  sample_metadata         3   \n",
       "\n",
       "                                                 sql  \n",
       "0  CREATE TABLE \"samples\" (\\n\"otu_id\" INTEGER,\\n ...  \n",
       "1  CREATE TABLE \"sample_metadata\" (\\n\"sample\" INT...  "
      ]
     },
     "execution_count": 93,
     "metadata": {},
     "output_type": "execute_result"
    }
   ],
   "source": [
    "tables = pd.read_sql(\"SELECT * FROM sqlite_master WHERE type='table'\", conn)\n",
    "tables.head()"
   ]
  },
  {
   "cell_type": "code",
   "execution_count": 94,
   "metadata": {},
   "outputs": [
    {
     "name": "stdout",
     "output_type": "stream",
     "text": [
      "<class 'str'>\n",
      "samples\n",
      "sample_metadata\n"
     ]
    }
   ],
   "source": [
    "print(type(tables[\"tbl_name\"][0]))\n",
    "for table in tables.iterrows():\n",
    "    print(table[1][\"tbl_name\"])\n"
   ]
  },
  {
   "cell_type": "code",
   "execution_count": 95,
   "metadata": {},
   "outputs": [
    {
     "name": "stdout",
     "output_type": "stream",
     "text": [
      "samples\n",
      "   otu_id                                          otu_label  940  941  943  \\\n",
      "0       1  Archaea;Euryarchaeota;Halobacteria;Halobacteri...    0    0    0   \n",
      "1       2  Archaea;Euryarchaeota;Halobacteria;Halobacteri...    0    0    0   \n",
      "2       3  Archaea;Euryarchaeota;Halobacteria;Halobacteri...    0    0    0   \n",
      "3       4  Archaea;Euryarchaeota;Methanobacteria;Methanob...    0    0    0   \n",
      "4       5  Archaea;Euryarchaeota;Methanobacteria;Methanob...    0    0    0   \n",
      "\n",
      "   944  945  946  947  948  ...   1562  1563  1564  1572  1573  1574  1576  \\\n",
      "0    0    0    0    0  0.0  ...      0     0     0     0     0     0     0   \n",
      "1    0    0    0    0  0.0  ...      0     0     0     0     0     0     0   \n",
      "2    0    0    0    0  0.0  ...      0     0     0     0     0     0     0   \n",
      "3    0    0    0    0  0.0  ...      0     0     0     0     0     0     0   \n",
      "4    0    0    0    0  0.0  ...      0     0     0     0     0     0     0   \n",
      "\n",
      "   1577  1581  1601  \n",
      "0     0     0     0  \n",
      "1     0     0     0  \n",
      "2     0     0     0  \n",
      "3     0     0     0  \n",
      "4     0     0     0  \n",
      "\n",
      "[5 rows x 155 columns]\n",
      "sample_metadata\n",
      "   sample                      EVENT              ETHNICITY GENDER   AGE  \\\n",
      "0     940  BellyButtonsScienceOnline              Caucasian      F  24.0   \n",
      "1     941                       None  Caucasian/Midleastern      F  34.0   \n",
      "2     943  BellyButtonsScienceOnline              Caucasian      F  49.0   \n",
      "3     944  BellyButtonsScienceOnline               European      M  44.0   \n",
      "4     945  BellyButtonsScienceOnline              Caucasian      F  48.0   \n",
      "\n",
      "   WFREQ BBTYPE         LOCATION COUNTRY012 ZIP012   ...      DOG   CAT  \\\n",
      "0    2.0      I      Beaufort/NC        usa  22306   ...       no    no   \n",
      "1    1.0      I       Chicago/IL       None   None   ...     None  None   \n",
      "2    1.0      I         Omaha/NE       None   None   ...     None  None   \n",
      "3    1.0      I      NewHaven/CT        usa   7079   ...       no   yes   \n",
      "4    1.0      I  Philidelphia/PA        usa  84404   ...       no    no   \n",
      "\n",
      "  IMPSURFACE013     NPP013  MMAXTEMP013  PFC013  IMPSURFACE1319 NPP1319  \\\n",
      "0        8852.0  37.172222         54.5    None               1     NaN   \n",
      "1           NaN        NaN          NaN    None            None     NaN   \n",
      "2           NaN        NaN          NaN    None            None     NaN   \n",
      "3           NaN  35.816666         16.0    None               0  6567.0   \n",
      "4           NaN  37.783333          4.0    None               0  5613.0   \n",
      "\n",
      "  MMAXTEMP1319  PFC1319  \n",
      "0    33.990002     25.5  \n",
      "1          NaN      NaN  \n",
      "2          NaN      NaN  \n",
      "3    32.403332     28.5  \n",
      "4    33.634445     24.0  \n",
      "\n",
      "[5 rows x 22 columns]\n"
     ]
    }
   ],
   "source": [
    "# see a bit of each table\n",
    "for i, table in enumerate(tables.iterrows()):\n",
    "    tname = table[1]['tbl_name']\n",
    "    print(tname)\n",
    "    data = pd.read_sql(\"SELECT * FROM \" + tname, conn)\n",
    "    print(data.head())"
   ]
  },
  {
   "cell_type": "code",
   "execution_count": null,
   "metadata": {},
   "outputs": [],
   "source": []
  }
 ],
 "metadata": {
  "kernelspec": {
   "display_name": "Python 3",
   "language": "python",
   "name": "python3"
  },
  "language_info": {
   "codemirror_mode": {
    "name": "ipython",
    "version": 3
   },
   "file_extension": ".py",
   "mimetype": "text/x-python",
   "name": "python",
   "nbconvert_exporter": "python",
   "pygments_lexer": "ipython3",
   "version": "3.6.4"
  }
 },
 "nbformat": 4,
 "nbformat_minor": 2
}
